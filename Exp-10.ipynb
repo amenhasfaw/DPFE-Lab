{
 "cells": [
  {
   "attachments": {},
   "cell_type": "markdown",
   "metadata": {},
   "source": [
    "10. Download the dataset and perform the preprocessing steps as below\n",
    "\n",
    "    a. Lower Casing\n",
    "\n",
    "    b. Tokenization\n",
    "\n",
    "    c. Punctuation Mark Removal\n",
    "\n",
    "    d. Stop Word Removal\n",
    "\n",
    "    e. Stemming\n",
    "\n",
    "    f. Lemmatization."
   ]
  }
 ],
 "metadata": {
  "language_info": {
   "name": "python"
  },
  "orig_nbformat": 4
 },
 "nbformat": 4,
 "nbformat_minor": 2
}
