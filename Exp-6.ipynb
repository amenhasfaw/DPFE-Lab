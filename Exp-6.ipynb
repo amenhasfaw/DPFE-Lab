{
 "cells": [
  {
   "attachments": {},
   "cell_type": "markdown",
   "metadata": {},
   "source": [
    "6. Normalize the data using different normalization techniques. \n",
    "\n",
    "    a. Min-max normalization\n",
    "\n",
    "    b. Z - score normalization\n",
    "    \n",
    "    c. Normalization by decimal scaling"
   ]
  }
 ],
 "metadata": {
  "language_info": {
   "name": "python"
  },
  "orig_nbformat": 4
 },
 "nbformat": 4,
 "nbformat_minor": 2
}
