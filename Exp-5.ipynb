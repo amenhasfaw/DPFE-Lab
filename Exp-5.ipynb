{
 "cells": [
  {
   "attachments": {},
   "cell_type": "markdown",
   "metadata": {},
   "source": [
    "5. Perform the process of Data discretization.\n",
    "\n",
    "    a. Histogram analysis\n",
    "\n",
    "    b. Binning, cluster analysis\n",
    "\n",
    "    c. Decision tree analysis\n",
    "    \n",
    "    d. Correlation analysis"
   ]
  }
 ],
 "metadata": {
  "language_info": {
   "name": "python"
  },
  "orig_nbformat": 4
 },
 "nbformat": 4,
 "nbformat_minor": 2
}
