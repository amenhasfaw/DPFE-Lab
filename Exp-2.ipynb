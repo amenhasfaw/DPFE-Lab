{
 "cells": [
  {
   "attachments": {},
   "cell_type": "markdown",
   "metadata": {},
   "source": [
    "2. Analyze the data for various variable characteristics such as\n",
    "\n",
    "    a. Missing Data\n",
    "\n",
    "    b. Cardinality\n",
    "\n",
    "    c. Category Frequency\n",
    "\n",
    "    d. Distributions\n",
    "\n",
    "    e. Outliers\n",
    "    \n",
    "    f. Magnitude."
   ]
  },
  {
   "attachments": {},
   "cell_type": "markdown",
   "metadata": {},
   "source": [
    "#### Missing Data"
   ]
  },
  {
   "cell_type": "code",
   "execution_count": 1,
   "metadata": {},
   "outputs": [
    {
     "data": {
      "text/plain": [
       "Unnamed: 0                    0\n",
       "name                          0\n",
       "last_name                 10850\n",
       "age                           0\n",
       "gender                    11892\n",
       "time                          0\n",
       "permanent_country         47691\n",
       "company                   25500\n",
       "main_industry                 0\n",
       "wealth_source_details     10922\n",
       "industry                     49\n",
       "state                    193179\n",
       "headquarters             218714\n",
       "countries                     0\n",
       "annual_income                 0\n",
       "daily_income                  0\n",
       "birth_year                    0\n",
       "name_cleaned                  0\n",
       "dtype: int64"
      ]
     },
     "execution_count": 1,
     "metadata": {},
     "output_type": "execute_result"
    }
   ],
   "source": [
    "import numpy as np\n",
    "import pandas as pd\n",
    "\n",
    "\n",
    "df = pd.read_csv('billionaire.csv')\n",
    "\n",
    "df.isna().sum()"
   ]
  },
  {
   "cell_type": "code",
   "execution_count": 2,
   "metadata": {},
   "outputs": [
    {
     "data": {
      "text/plain": [
       "Unnamed: 0                    0\n",
       "name                          0\n",
       "last_name                 10850\n",
       "age                           0\n",
       "gender                        0\n",
       "time                          0\n",
       "permanent_country         47691\n",
       "company                   25500\n",
       "main_industry                 0\n",
       "wealth_source_details     10922\n",
       "industry                     49\n",
       "state                    193179\n",
       "headquarters             218714\n",
       "countries                     0\n",
       "annual_income                 0\n",
       "daily_income                  0\n",
       "birth_year                    0\n",
       "name_cleaned                  0\n",
       "dtype: int64"
      ]
     },
     "execution_count": 2,
     "metadata": {},
     "output_type": "execute_result"
    }
   ],
   "source": [
    "df1 = df\n",
    "df1['gender'] =  df['gender'].fillna(value='M')\n",
    "df1.isna().sum()"
   ]
  },
  {
   "cell_type": "code",
   "execution_count": 3,
   "metadata": {},
   "outputs": [
    {
     "data": {
      "text/plain": [
       "Unnamed: 0               0\n",
       "name                     0\n",
       "last_name                0\n",
       "age                      0\n",
       "gender                   0\n",
       "time                     0\n",
       "permanent_country        0\n",
       "company                  0\n",
       "main_industry            0\n",
       "wealth_source_details    0\n",
       "industry                 0\n",
       "state                    0\n",
       "headquarters             0\n",
       "countries                0\n",
       "annual_income            0\n",
       "daily_income             0\n",
       "birth_year               0\n",
       "name_cleaned             0\n",
       "dtype: int64"
      ]
     },
     "execution_count": 3,
     "metadata": {},
     "output_type": "execute_result"
    }
   ],
   "source": [
    "df1 = df.dropna()\n",
    "df1.isna().sum()"
   ]
  },
  {
   "attachments": {},
   "cell_type": "markdown",
   "metadata": {},
   "source": [
    "#### Cardinality"
   ]
  },
  {
   "cell_type": "code",
   "execution_count": 4,
   "metadata": {},
   "outputs": [
    {
     "data": {
      "text/plain": [
       "Unnamed: 0               352369\n",
       "name                       4976\n",
       "last_name                  2407\n",
       "age                          87\n",
       "gender                        3\n",
       "time                         21\n",
       "permanent_country          1056\n",
       "company                    3103\n",
       "main_industry               190\n",
       "wealth_source_details      1807\n",
       "industry                   2223\n",
       "state                       130\n",
       "headquarters                 91\n",
       "countries                   198\n",
       "annual_income              3044\n",
       "daily_income               2998\n",
       "birth_year                   87\n",
       "name_cleaned               5014\n",
       "dtype: int64"
      ]
     },
     "execution_count": 4,
     "metadata": {},
     "output_type": "execute_result"
    }
   ],
   "source": [
    "df.nunique()"
   ]
  },
  {
   "cell_type": "code",
   "execution_count": 5,
   "metadata": {},
   "outputs": [
    {
     "data": {
      "text/plain": [
       "1056"
      ]
     },
     "execution_count": 5,
     "metadata": {},
     "output_type": "execute_result"
    }
   ],
   "source": [
    "df['permanent_country'].nunique()"
   ]
  },
  {
   "cell_type": "code",
   "execution_count": 6,
   "metadata": {},
   "outputs": [
    {
     "data": {
      "text/plain": [
       "array(['United Arab Emirates', 'China', 'Italy', nan, 'Mexico',\n",
       "       'United States', 'France', 'United Kingdom', 'India', 'Germany',\n",
       "       'Argentina', 'Switzerland', 'Thailand', 'Brazil', 'Chile',\n",
       "       'Norway', 'Japan', 'Ireland', 'Netherlands', 'Indonesia',\n",
       "       'Malaysia', 'South Korea', 'Australia', 'Singapore', 'Morocco',\n",
       "       'Russia', 'Monaco', 'Saudi Arabia', 'Nigeria', 'USA', 'Denmark',\n",
       "       'Turkey', 'China ', 'UK', 'Canada', 'Spain', 'Kazakhstan',\n",
       "       'Portugal', 'Israel', 'Peru', 'Czech Republic', 'Philippines',\n",
       "       'Sweden', 'Finland', 'Chinese Taipei', 'Belgium', 'UAE', 'Georgia',\n",
       "       'Nepal', 'Bahamas', 'Colombia', 'Cambodia', 'South Africa',\n",
       "       'Liechtenstein', 'Austria', 'Poland', 'United States ', 'USA ',\n",
       "       'Qatar', 'New Zealand', 'Venezuela', 'Brunei', 'Vietnam',\n",
       "       'United Kingdom ', 'Romania', 'Angola', 'Algeria', 'Slovakia',\n",
       "       'ChinaChangsha', 'Cayman Islands', 'Ukraine', 'Kuwait', 'Dubai',\n",
       "       'Egypt', 'Oman', 'Tanzania', 'Lebanon', 'Cyprus',\n",
       "       'United StatesNew Jersey', 'Hungary', 'Bangladesh', 'Greece',\n",
       "       'Melbourne', 'Seychelles'], dtype=object)"
      ]
     },
     "execution_count": 6,
     "metadata": {},
     "output_type": "execute_result"
    }
   ],
   "source": [
    "df['permanent_country'] = df['permanent_country'].str.split('-').str[0]\n",
    "df['permanent_country'].unique()"
   ]
  },
  {
   "cell_type": "code",
   "execution_count": 7,
   "metadata": {},
   "outputs": [
    {
     "data": {
      "text/plain": [
       "83"
      ]
     },
     "execution_count": 7,
     "metadata": {},
     "output_type": "execute_result"
    }
   ],
   "source": [
    "df['permanent_country'].nunique()"
   ]
  },
  {
   "attachments": {},
   "cell_type": "markdown",
   "metadata": {},
   "source": [
    "#### Category Frequency"
   ]
  },
  {
   "cell_type": "code",
   "execution_count": 8,
   "metadata": {},
   "outputs": [
    {
     "data": {
      "image/png": "[encoded data removed]",
      "text/plain": [
       "<Figure size 640x480 with 1 Axes>"
      ]
     },
     "metadata": {},
     "output_type": "display_data"
    }
   ],
   "source": [
    "import matplotlib.pyplot as plt\n",
    "\n",
    "age_dist = df.groupby(df.age).size() #CATEGORY FREQUENCY\n",
    "age_dist = np.array(age_dist)\n",
    "age = np.array(df['age'].unique())\n",
    "age.sort()\n",
    "age\n",
    "\n",
    "\n",
    "plt.bar(age, age_dist)\n",
    "plt.title('Billionaire Age Distribution')\n",
    "plt.xlabel('Age')\n",
    "plt.ylabel('Number of Billionaires')\n",
    "plt.show()\n"
   ]
  },
  {
   "attachments": {},
   "cell_type": "markdown",
   "metadata": {},
   "source": [
    "#### Distribution"
   ]
  },
  {
   "cell_type": "code",
   "execution_count": 9,
   "metadata": {},
   "outputs": [
    {
     "data": {
      "text/plain": [
       "<seaborn.axisgrid.FacetGrid at 0x106213cd0>"
      ]
     },
     "execution_count": 9,
     "metadata": {},
     "output_type": "execute_result"
    },
    {
     "data": {
      "image/png": "[encoded data removed]",
      "text/plain": [
       "<Figure size 500x500 with 1 Axes>"
      ]
     },
     "metadata": {},
     "output_type": "display_data"
    }
   ],
   "source": [
    "import seaborn as sns\n",
    "\n",
    "sns.displot(df['age'], kind='hist')"
   ]
  },
  {
   "attachments": {},
   "cell_type": "markdown",
   "metadata": {},
   "source": [
    "#### Outliers"
   ]
  },
  {
   "cell_type": "code",
   "execution_count": 12,
   "metadata": {},
   "outputs": [],
   "source": [
    "# Calculate Q1 and Q3\n",
    "Q1 = df['age'].quantile(0.25)\n",
    "Q3 = df['age'].quantile(0.75)\n",
    "\n",
    "# Calculate IQR\n",
    "IQR = Q3 - Q1\n",
    "\n",
    "\n",
    "outliers_df = df[(df['age'] > Q1 - 1.5*IQR) & (df['age'] < Q3 + 1.5*IQR)]"
   ]
  },
  {
   "cell_type": "code",
   "execution_count": 13,
   "metadata": {},
   "outputs": [
    {
     "data": {
      "text/plain": [
       "<seaborn.axisgrid.FacetGrid at 0x132c85340>"
      ]
     },
     "execution_count": 13,
     "metadata": {},
     "output_type": "execute_result"
    },
    {
     "data": {
      "image/png": "[encoded data removed]",
      "text/plain": [
       "<Figure size 500x500 with 1 Axes>"
      ]
     },
     "metadata": {},
     "output_type": "display_data"
    }
   ],
   "source": [
    "sns.displot(outliers_df['age'], kind='hist',bins=100)"
   ]
  },
  {
   "attachments": {},
   "cell_type": "markdown",
   "metadata": {},
   "source": [
    "#### Magnitude"
   ]
  },
  {
   "cell_type": "code",
   "execution_count": 14,
   "metadata": {},
   "outputs": [
    {
     "name": "stdout",
     "output_type": "stream",
     "text": [
      "<class 'pandas.core.frame.DataFrame'>\n",
      "RangeIndex: 352369 entries, 0 to 352368\n",
      "Data columns (total 18 columns):\n",
      " #   Column                 Non-Null Count   Dtype \n",
      "---  ------                 --------------   ----- \n",
      " 0   Unnamed: 0             352369 non-null  int64 \n",
      " 1   name                   352369 non-null  object\n",
      " 2   last_name              341519 non-null  object\n",
      " 3   age                    352369 non-null  int64 \n",
      " 4   gender                 352369 non-null  object\n",
      " 5   time                   352369 non-null  int64 \n",
      " 6   permanent_country      304678 non-null  object\n",
      " 7   company                326869 non-null  object\n",
      " 8   main_industry          352369 non-null  object\n",
      " 9   wealth_source_details  341447 non-null  object\n",
      " 10  industry               352320 non-null  object\n",
      " 11  state                  159190 non-null  object\n",
      " 12  headquarters           133655 non-null  object\n",
      " 13  countries              352369 non-null  object\n",
      " 14  annual_income          352369 non-null  int64 \n",
      " 15  daily_income           352369 non-null  int64 \n",
      " 16  birth_year             352369 non-null  int64 \n",
      " 17  name_cleaned           352369 non-null  object\n",
      "dtypes: int64(6), object(12)\n",
      "memory usage: 48.4+ MB\n"
     ]
    }
   ],
   "source": [
    "df.info()"
   ]
  }
 ],
 "metadata": {
  "kernelspec": {
   "display_name": "base",
   "language": "python",
   "name": "python3"
  },
  "language_info": {
   "codemirror_mode": {
    "name": "ipython",
    "version": 3
   },
   "file_extension": ".py",
   "mimetype": "text/x-python",
   "name": "python",
   "nbconvert_exporter": "python",
   "pygments_lexer": "ipython3",
   "version": "3.9.7"
  },
  "orig_nbformat": 4
 },
 "nbformat": 4,
 "nbformat_minor": 2
}
