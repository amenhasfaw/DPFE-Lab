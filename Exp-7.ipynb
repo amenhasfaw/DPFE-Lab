{
 "cells": [
  {
   "attachments": {},
   "cell_type": "markdown",
   "metadata": {},
   "source": [
    "7. Select the optimal features from the dataset using various feature selection techniques.\n",
    "\n",
    "    a. Statistical-based feature selection\n",
    "    \n",
    "    b. Pearson correlation to select features"
   ]
  }
 ],
 "metadata": {
  "language_info": {
   "name": "python"
  },
  "orig_nbformat": 4
 },
 "nbformat": 4,
 "nbformat_minor": 2
}
