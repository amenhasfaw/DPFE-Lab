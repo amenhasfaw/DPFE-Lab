{
 "cells": [
  {
   "cell_type": "markdown",
   "metadata": {},
   "source": [
    "11. Implement the Bag-of-words model."
   ]
  },
  {
   "cell_type": "code",
   "execution_count": 5,
   "metadata": {},
   "outputs": [],
   "source": [
    "import pandas as pd\n",
    "from sklearn.feature_extraction.text import CountVectorizer"
   ]
  },
  {
   "cell_type": "code",
   "execution_count": 17,
   "metadata": {},
   "outputs": [],
   "source": [
    "text = [\"The train does not leave at 12 AM.\",\n",
    "        \"I have no money at the moment.\",\n",
    "        \"Do they talk a lot ?\",\n",
    "        \"Does she drink coffee?\",\n",
    "        \"You run to the party.\"]"
   ]
  },
  {
   "cell_type": "code",
   "execution_count": 18,
   "metadata": {},
   "outputs": [],
   "source": [
    "vectorizer = CountVectorizer()\n",
    "vectorized_txt = vectorizer.fit_transform(text)"
   ]
  },
  {
   "cell_type": "code",
   "execution_count": 19,
   "metadata": {},
   "outputs": [
    {
     "name": "stdout",
     "output_type": "stream",
     "text": [
      "Vocabulary: \n"
     ]
    },
    {
     "data": {
      "text/plain": [
       "{'the': 18,\n",
       " 'train': 21,\n",
       " 'does': 5,\n",
       " 'not': 13,\n",
       " 'leave': 8,\n",
       " 'at': 2,\n",
       " '12': 0,\n",
       " 'am': 1,\n",
       " 'have': 7,\n",
       " 'no': 12,\n",
       " 'money': 11,\n",
       " 'moment': 10,\n",
       " 'do': 4,\n",
       " 'they': 19,\n",
       " 'talk': 17,\n",
       " 'lot': 9,\n",
       " 'she': 16,\n",
       " 'drink': 6,\n",
       " 'coffee': 3,\n",
       " 'you': 22,\n",
       " 'run': 15,\n",
       " 'to': 20,\n",
       " 'party': 14}"
      ]
     },
     "execution_count": 19,
     "metadata": {},
     "output_type": "execute_result"
    }
   ],
   "source": [
    "print(\"Vocabulary: \")\n",
    "vectorizer.vocabulary_"
   ]
  },
  {
   "cell_type": "code",
   "execution_count": 21,
   "metadata": {},
   "outputs": [
    {
     "name": "stdout",
     "output_type": "stream",
     "text": [
      "Encoded documents: \n",
      " [[1 1 1 0 0 1 0 0 1 0 0 0 0 1 0 0 0 0 1 0 0 1 0]\n",
      " [0 0 1 0 0 0 0 1 0 0 1 1 1 0 0 0 0 0 1 0 0 0 0]\n",
      " [0 0 0 0 1 0 0 0 0 1 0 0 0 0 0 0 0 1 0 1 0 0 0]\n",
      " [0 0 0 1 0 1 1 0 0 0 0 0 0 0 0 0 1 0 0 0 0 0 0]\n",
      " [0 0 0 0 0 0 0 0 0 0 0 0 0 0 1 1 0 0 1 0 1 0 1]]\n"
     ]
    }
   ],
   "source": [
    "print(\"Encoded documents: \\n\", vectorized_txt.toarray())"
   ]
  }
 ],
 "metadata": {
  "kernelspec": {
   "display_name": "ML",
   "language": "python",
   "name": "python3"
  },
  "language_info": {
   "codemirror_mode": {
    "name": "ipython",
    "version": 3
   },
   "file_extension": ".py",
   "mimetype": "text/x-python",
   "name": "python",
   "nbconvert_exporter": "python",
   "pygments_lexer": "ipython3",
   "version": "3.9.16"
  },
  "orig_nbformat": 4
 },
 "nbformat": 4,
 "nbformat_minor": 2
}
